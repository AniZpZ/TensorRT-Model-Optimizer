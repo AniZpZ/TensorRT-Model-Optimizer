{
 "cells": [
  {
   "cell_type": "markdown",
   "id": "13d9d5ea",
   "metadata": {},
   "source": [
    "# To Do: QAT simple workflow without the Trainer"
   ]
  }
 ],
 "metadata": {
  "language_info": {
   "name": "python"
  }
 },
 "nbformat": 4,
 "nbformat_minor": 5
}
